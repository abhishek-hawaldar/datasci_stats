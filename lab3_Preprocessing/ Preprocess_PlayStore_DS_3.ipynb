{
  "nbformat": 4,
  "nbformat_minor": 0,
  "metadata": {
    "kernelspec": {
      "display_name": "Python 3",
      "language": "python",
      "name": "python3"
    },
    "language_info": {
      "codemirror_mode": {
        "name": "ipython",
        "version": 3
      },
      "file_extension": ".py",
      "mimetype": "text/x-python",
      "name": "python",
      "nbconvert_exporter": "python",
      "pygments_lexer": "ipython3",
      "version": "3.8.3"
    },
    "colab": {
      "name": "Preprocess __PlayStore_DS_3.ipynb",
      "provenance": [],
      "include_colab_link": true
    }
  },
  "cells": [
    {
      "cell_type": "markdown",
      "metadata": {
        "id": "view-in-github",
        "colab_type": "text"
      },
      "source": [
        "<a href=\"https://colab.research.google.com/github/abhishek-hawaldar/datasci_stats/blob/main/lab3_Preprocessing/%20Preprocess_PlayStore_DS_3.ipynb\" target=\"_parent\"><img src=\"https://colab.research.google.com/assets/colab-badge.svg\" alt=\"Open In Colab\"/></a>"
      ]
    },
    {
      "cell_type": "code",
      "metadata": {
        "colab": {
          "base_uri": "https://localhost:8080/"
        },
        "id": "5_EO7hNwzkM_",
        "outputId": "e02856da-3f55-4013-9f68-ccf61afffcb2"
      },
      "source": [
        "print(\"HI\")"
      ],
      "execution_count": null,
      "outputs": [
        {
          "output_type": "stream",
          "text": [
            "HI\n"
          ],
          "name": "stdout"
        }
      ]
    },
    {
      "cell_type": "code",
      "metadata": {
        "colab": {
          "base_uri": "https://localhost:8080/"
        },
        "id": "zrXrpJ3pzkND",
        "outputId": "457af925-acca-49d4-b1d2-6790ce165dbf"
      },
      "source": [
        "import pandas as pd\n",
        "import numpy as np\n",
        "import matplotlib.pyplot as plt\n",
        "import seaborn as sns\n",
        "print(\"hi\")\n"
      ],
      "execution_count": null,
      "outputs": [
        {
          "output_type": "stream",
          "text": [
            "hi\n"
          ],
          "name": "stdout"
        }
      ]
    },
    {
      "cell_type": "markdown",
      "metadata": {
        "id": "y5asTwwqzkNF"
      },
      "source": [
        "***"
      ]
    },
    {
      "cell_type": "code",
      "metadata": {
        "colab": {
          "base_uri": "https://localhost:8080/"
        },
        "id": "uR1TIBsdzkNG",
        "outputId": "01c69a22-fa9b-492e-dc16-078dbdf9bf91"
      },
      "source": [
        "df = pd.read_csv(\"https://raw.githubusercontent.com/abhishek-hawaldar/datasci_stats/main/lab3_Preprocessing/googleplaystore.csv\")\n",
        "df.head()\n",
        "print(df.shape)\n",
        "df.columns"
      ],
      "execution_count": null,
      "outputs": [
        {
          "output_type": "stream",
          "text": [
            "(10841, 13)\n"
          ],
          "name": "stdout"
        },
        {
          "output_type": "execute_result",
          "data": {
            "text/plain": [
              "Index(['App', 'Category', 'Rating', 'Reviews', 'Size', 'Installs', 'Type',\n",
              "       'Price', 'Content Rating', 'Genres', 'Last Updated', 'Current Ver',\n",
              "       'Android Ver'],\n",
              "      dtype='object')"
            ]
          },
          "metadata": {
            "tags": []
          },
          "execution_count": 231
        }
      ]
    },
    {
      "cell_type": "code",
      "metadata": {
        "id": "7TQJ2qsNVpsN"
      },
      "source": [
        ""
      ],
      "execution_count": null,
      "outputs": []
    },
    {
      "cell_type": "markdown",
      "metadata": {
        "id": "8rpJJKbHzkNI"
      },
      "source": [
        "***"
      ]
    },
    {
      "cell_type": "code",
      "metadata": {
        "id": "eU19UZSO5kWE"
      },
      "source": [
        "df=df.drop(['Last Updated', 'Content Rating'], axis=1)\r\n"
      ],
      "execution_count": null,
      "outputs": []
    },
    {
      "cell_type": "code",
      "metadata": {
        "colab": {
          "base_uri": "https://localhost:8080/"
        },
        "id": "kkTZyMnOV0nA",
        "outputId": "a099ecc1-eb4c-4e5b-e8a6-2c1572032373"
      },
      "source": [
        "df.columns"
      ],
      "execution_count": null,
      "outputs": [
        {
          "output_type": "execute_result",
          "data": {
            "text/plain": [
              "Index(['App', 'Category', 'Rating', 'Reviews', 'Size', 'Installs', 'Type',\n",
              "       'Price', 'Genres', 'Current Ver', 'Android Ver'],\n",
              "      dtype='object')"
            ]
          },
          "metadata": {
            "tags": []
          },
          "execution_count": 233
        }
      ]
    },
    {
      "cell_type": "code",
      "metadata": {
        "colab": {
          "base_uri": "https://localhost:8080/"
        },
        "id": "o3D5FiQj5k3b",
        "outputId": "26f1b2f1-d32d-46f2-b89d-ede7ef1f0182"
      },
      "source": [
        "df.shape"
      ],
      "execution_count": null,
      "outputs": [
        {
          "output_type": "execute_result",
          "data": {
            "text/plain": [
              "(10841, 11)"
            ]
          },
          "metadata": {
            "tags": []
          },
          "execution_count": 234
        }
      ]
    },
    {
      "cell_type": "code",
      "metadata": {
        "colab": {
          "base_uri": "https://localhost:8080/"
        },
        "id": "_TW3btvEgwdn",
        "outputId": "dadb1abd-39a2-4e17-ad51-69049ef32a6a"
      },
      "source": [
        "df.isna().sum()"
      ],
      "execution_count": null,
      "outputs": [
        {
          "output_type": "execute_result",
          "data": {
            "text/plain": [
              "App               0\n",
              "Category          0\n",
              "Rating         1474\n",
              "Reviews           0\n",
              "Size              0\n",
              "Installs          0\n",
              "Type              1\n",
              "Price             0\n",
              "Genres            0\n",
              "Current Ver       8\n",
              "Android Ver       3\n",
              "dtype: int64"
            ]
          },
          "metadata": {
            "tags": []
          },
          "execution_count": 235
        }
      ]
    },
    {
      "cell_type": "code",
      "metadata": {
        "colab": {
          "base_uri": "https://localhost:8080/"
        },
        "id": "03VhwVmWfzZX",
        "outputId": "4862214c-5916-4008-cd60-22163130858c"
      },
      "source": [
        "\r\n",
        "print(np.where(df.isna()==True))\r\n",
        "\r\n",
        "# first arr shows row of null value and second arr shows column index where null val"
      ],
      "execution_count": null,
      "outputs": [
        {
          "output_type": "stream",
          "text": [
            "(array([   15,    23,   113, ..., 10831, 10835, 10838]), array([9, 2, 2, ..., 2, 2, 2]))\n"
          ],
          "name": "stdout"
        }
      ]
    },
    {
      "cell_type": "code",
      "metadata": {
        "colab": {
          "base_uri": "https://localhost:8080/"
        },
        "id": "FNx9eD_9gDcO",
        "outputId": "ea610fe8-96ea-4424-9bbb-337dad635286"
      },
      "source": [
        "df.loc[15]"
      ],
      "execution_count": null,
      "outputs": [
        {
          "output_type": "execute_result",
          "data": {
            "text/plain": [
              "App            Learn To Draw Kawaii Characters\n",
              "Category                        ART_AND_DESIGN\n",
              "Rating                                     3.2\n",
              "Reviews                                     55\n",
              "Size                                      2.7M\n",
              "Installs                                5,000+\n",
              "Type                                      Free\n",
              "Price                                        0\n",
              "Genres                            Art & Design\n",
              "Current Ver                                NaN\n",
              "Android Ver                         4.2 and up\n",
              "Name: 15, dtype: object"
            ]
          },
          "metadata": {
            "tags": []
          },
          "execution_count": 237
        }
      ]
    },
    {
      "cell_type": "code",
      "metadata": {
        "colab": {
          "base_uri": "https://localhost:8080/"
        },
        "id": "A5vSnDjcgH_2",
        "outputId": "a6c4ae76-89b7-4202-f434-99603ff13a7b"
      },
      "source": [
        "\r\n",
        "dropdf=df.dropna()\r\n",
        "dropdf.isna().sum()\r\n"
      ],
      "execution_count": null,
      "outputs": [
        {
          "output_type": "execute_result",
          "data": {
            "text/plain": [
              "App            0\n",
              "Category       0\n",
              "Rating         0\n",
              "Reviews        0\n",
              "Size           0\n",
              "Installs       0\n",
              "Type           0\n",
              "Price          0\n",
              "Genres         0\n",
              "Current Ver    0\n",
              "Android Ver    0\n",
              "dtype: int64"
            ]
          },
          "metadata": {
            "tags": []
          },
          "execution_count": 238
        }
      ]
    },
    {
      "cell_type": "code",
      "metadata": {
        "colab": {
          "base_uri": "https://localhost:8080/"
        },
        "id": "hCeG4yGYmZAa",
        "outputId": "8dcba33e-d048-49c0-e6dd-1f6d10f5b59c"
      },
      "source": [
        "print(df.shape)\r\n",
        "print(dropdf.shape)"
      ],
      "execution_count": null,
      "outputs": [
        {
          "output_type": "stream",
          "text": [
            "(10841, 11)\n",
            "(9360, 11)\n"
          ],
          "name": "stdout"
        }
      ]
    },
    {
      "cell_type": "code",
      "metadata": {
        "colab": {
          "base_uri": "https://localhost:8080/"
        },
        "id": "0HVy-0PQq1Vl",
        "outputId": "6702a95e-2612-449b-d1e5-def2e373e05e"
      },
      "source": [
        "df.dtypes"
      ],
      "execution_count": null,
      "outputs": [
        {
          "output_type": "execute_result",
          "data": {
            "text/plain": [
              "App             object\n",
              "Category        object\n",
              "Rating         float64\n",
              "Reviews         object\n",
              "Size            object\n",
              "Installs        object\n",
              "Type            object\n",
              "Price           object\n",
              "Genres          object\n",
              "Current Ver     object\n",
              "Android Ver     object\n",
              "dtype: object"
            ]
          },
          "metadata": {
            "tags": []
          },
          "execution_count": 240
        }
      ]
    },
    {
      "cell_type": "code",
      "metadata": {
        "id": "uTO9ronqsykd"
      },
      "source": [
        "#df.Reviews = df.Reviews.astype('int64') #Changing to int type."
      ],
      "execution_count": null,
      "outputs": []
    },
    {
      "cell_type": "code",
      "metadata": {
        "colab": {
          "base_uri": "https://localhost:8080/"
        },
        "id": "j7tXQpnMtkMz",
        "outputId": "ce910adb-7b51-42c1-f312-24e8a0718882"
      },
      "source": [
        "print(df.isna().sum())\r\n"
      ],
      "execution_count": null,
      "outputs": [
        {
          "output_type": "stream",
          "text": [
            "App               0\n",
            "Category          0\n",
            "Rating         1474\n",
            "Reviews           0\n",
            "Size              0\n",
            "Installs          0\n",
            "Type              1\n",
            "Price             0\n",
            "Genres            0\n",
            "Current Ver       8\n",
            "Android Ver       3\n",
            "dtype: int64\n"
          ],
          "name": "stdout"
        }
      ]
    },
    {
      "cell_type": "code",
      "metadata": {
        "colab": {
          "base_uri": "https://localhost:8080/"
        },
        "id": "pRlj6Gs1qBfz",
        "outputId": "bcb34b1b-ac64-4419-b96f-c62c712a4f25"
      },
      "source": [
        "\r\n",
        "# Replacing rows with  null rating as mean rating \r\n",
        "\r\n",
        "from sklearn.impute import SimpleImputer\r\n",
        "imputer = SimpleImputer(missing_values=np.nan, strategy='mean')\r\n",
        "imputer.fit(df.iloc[:, 2:3])\r\n",
        "df.iloc[:, 2:3] = imputer.transform(df.iloc[:, 2:3])\r\n",
        "print(df)"
      ],
      "execution_count": null,
      "outputs": [
        {
          "output_type": "stream",
          "text": [
            "                                                     App  ...         Android Ver\n",
            "0         Photo Editor & Candy Camera & Grid & ScrapBook  ...        4.0.3 and up\n",
            "1                                    Coloring book moana  ...        4.0.3 and up\n",
            "2      U Launcher Lite – FREE Live Cool Themes, Hide ...  ...        4.0.3 and up\n",
            "3                                  Sketch - Draw & Paint  ...          4.2 and up\n",
            "4                  Pixel Draw - Number Art Coloring Book  ...          4.4 and up\n",
            "...                                                  ...  ...                 ...\n",
            "10836                                   Sya9a Maroc - FR  ...          4.1 and up\n",
            "10837                   Fr. Mike Schmitz Audio Teachings  ...          4.1 and up\n",
            "10838                             Parkinson Exercices FR  ...          2.2 and up\n",
            "10839                      The SCP Foundation DB fr nn5n  ...  Varies with device\n",
            "10840      iHoroscope - 2018 Daily Horoscope & Astrology  ...  Varies with device\n",
            "\n",
            "[10841 rows x 11 columns]\n"
          ],
          "name": "stdout"
        }
      ]
    },
    {
      "cell_type": "code",
      "metadata": {
        "colab": {
          "base_uri": "https://localhost:8080/"
        },
        "id": "PkunelPPti4L",
        "outputId": "1f19589a-c3de-482d-99d3-a678f1bfb808"
      },
      "source": [
        "print(df.isna().sum())"
      ],
      "execution_count": null,
      "outputs": [
        {
          "output_type": "stream",
          "text": [
            "App            0\n",
            "Category       0\n",
            "Rating         0\n",
            "Reviews        0\n",
            "Size           0\n",
            "Installs       0\n",
            "Type           1\n",
            "Price          0\n",
            "Genres         0\n",
            "Current Ver    8\n",
            "Android Ver    3\n",
            "dtype: int64\n"
          ],
          "name": "stdout"
        }
      ]
    },
    {
      "cell_type": "code",
      "metadata": {
        "id": "85KQgJBhqB3t"
      },
      "source": [
        ""
      ],
      "execution_count": null,
      "outputs": []
    },
    {
      "cell_type": "code",
      "metadata": {
        "id": "_FUVlzyV5kes",
        "colab": {
          "base_uri": "https://localhost:8080/"
        },
        "outputId": "31641f58-f9ff-4596-c46a-e99e3d3c4825"
      },
      "source": [
        "print('number',df.duplicated().sum())\r\n",
        "print(np.where(df.duplicated()==True))"
      ],
      "execution_count": null,
      "outputs": [
        {
          "output_type": "stream",
          "text": [
            "number 485\n",
            "(array([  229,   236,   239,   256,   261,   265,   266,   267,   268,\n",
            "         269,   270,   271,   272,   273,   274,   275,   276,   277,\n",
            "         278,   279,   280,   281,   282,   283,   284,   286,   287,\n",
            "         288,   289,   290,   291,   292,   296,   381,   394,   396,\n",
            "         414,   430,   431,   465,   466,   468,   469,   472,   473,\n",
            "         474,   475,   542,   543,   544,   545,   547,   548,   549,\n",
            "         550,   551,   553,   554,   556,   557,   558,   560,   561,\n",
            "         562,   586,   588,   665,   666,   667,   668,   671,   672,\n",
            "         676,   677,   678,   680,   681,   682,   683,   685,   687,\n",
            "         690,   695,   696,   738,   739,   746,   757,   782,   783,\n",
            "         785,   786,   787,   788,   792,   794,   799,   806,   819,\n",
            "         826,   828,   830,   831,   833,   836,   840,   842,   845,\n",
            "         846,   847,   898,   904,   930,   934,   935,   936,   937,\n",
            "         939,   940,   943,   944,   946,   947,   951,   959,   961,\n",
            "         962,   963,   964,   965,   966,   967,   968,   970,   972,\n",
            "         975,   977,   978,   979,   980,   981,   982,   983,   984,\n",
            "         985,   988,   992,   993,  1096,  1100,  1136,  1142,  1149,\n",
            "        1155,  1239,  1241,  1242,  1324,  1346,  1347,  1372,  1373,\n",
            "        1374,  1381,  1383,  1384,  1385,  1388,  1404,  1405,  1406,\n",
            "        1407,  1409,  1410,  1413,  1414,  1415,  1416,  1417,  1418,\n",
            "        1419,  1420,  1421,  1422,  1424,  1430,  1434,  1436,  1441,\n",
            "        1443,  1444,  1445,  1502,  1503,  1504,  1505,  1506,  1507,\n",
            "        1511,  1611,  1616,  1626,  1628,  1629,  1630,  1631,  1632,\n",
            "        1704,  1717,  1725,  1751,  1756,  1759,  1760,  1778,  1797,\n",
            "        1865,  1917,  1921,  1922,  1925,  1935,  1949,  1966,  1967,\n",
            "        1968,  1981,  1987,  2000,  2004,  2065,  2089,  2090,  2132,\n",
            "        2133,  2135,  2184,  2193,  2194,  2195,  2196,  2197,  2198,\n",
            "        2199,  2200,  2201,  2202,  2203,  2204,  2205,  2211,  2219,\n",
            "        2220,  2222,  2227,  2229,  2232,  2234,  2365,  2366,  2367,\n",
            "        2372,  2378,  2380,  2385,  2386,  2387,  2389,  2395,  2398,\n",
            "        2399,  2400,  2401,  2402,  2406,  2407,  2409,  2416,  2418,\n",
            "        2419,  2420,  2486,  2488,  2494,  2495,  2498,  2499,  2502,\n",
            "        2505,  2507,  2512,  2516,  2517,  2518,  2521,  2529,  2537,\n",
            "        2543,  2587,  2611,  2612,  2623,  2627,  2630,  2634,  2635,\n",
            "        2643,  2645,  2647,  2648,  2650,  2652,  2653,  2723,  2724,\n",
            "        2725,  2726,  2731,  2732,  2737,  2738,  2739,  2743,  2745,\n",
            "        2747,  2748,  2749,  2750,  2752,  2755,  2757,  2767,  2769,\n",
            "        2770,  2773,  2774,  2775,  2776,  2777,  2778,  2779,  2780,\n",
            "        2781,  2782,  2783,  2784,  2789,  2793,  2794,  2797,  2857,\n",
            "        2867,  2885,  2886,  2887,  2888,  2898,  2899,  2904,  2912,\n",
            "        2925,  2950,  2957,  3007,  3010,  3011,  3012,  3013,  3014,\n",
            "        3015,  3018,  3019,  3020,  3022,  3037,  3047,  3060,  3061,\n",
            "        3063,  3064,  3066,  3067,  3071,  3072,  3079,  3080,  3081,\n",
            "        3085,  3088,  3090,  3091,  3094,  3097,  3098,  3099,  3100,\n",
            "        3118,  3170,  3173,  3174,  3175,  3179,  3185,  3187,  3188,\n",
            "        3192,  3200,  3202,  3203,  3205,  3206,  3207,  3211,  3213,\n",
            "        3214,  3221,  3222,  3398,  3424,  3435,  3507,  3510,  3525,\n",
            "        3545,  3549,  3556,  3565,  3765,  3767,  3780,  3785,  3790,\n",
            "        3792,  3796,  3800,  3801,  3802,  3804,  3806,  3807,  3808,\n",
            "        3809,  3811,  3814,  3815,  3818,  3965,  3971,  4039,  4095,\n",
            "        4096,  4104,  4123,  4222,  4234,  4441,  5147,  5537,  5958,\n",
            "        5989,  6584,  6585,  6590,  6593,  6594,  6595,  6598,  6911,\n",
            "        7030,  7035,  7628,  7885,  8628,  8630,  8632,  8635,  8636,\n",
            "        8639,  8642,  8643,  8654,  8658, 10049, 10473, 10768]),)\n"
          ],
          "name": "stdout"
        }
      ]
    },
    {
      "cell_type": "code",
      "metadata": {
        "colab": {
          "base_uri": "https://localhost:8080/"
        },
        "id": "tSQe7HPiY15-",
        "outputId": "e10d307e-3c01-4217-8219-7a1801e1cb35"
      },
      "source": [
        "df.loc[244]\r\n",
        "#print(df.loc[217],df.loc[224],df.loc[227], df.loc[244])"
      ],
      "execution_count": null,
      "outputs": [
        {
          "output_type": "execute_result",
          "data": {
            "text/plain": [
              "App            HipChat - Chat Built for Teams\n",
              "Category                             BUSINESS\n",
              "Rating                                    3.8\n",
              "Reviews                                  5868\n",
              "Size                                      20M\n",
              "Installs                             500,000+\n",
              "Type                                     Free\n",
              "Price                                       0\n",
              "Genres                               Business\n",
              "Current Ver                          3.19.005\n",
              "Android Ver                        4.1 and up\n",
              "Name: 244, dtype: object"
            ]
          },
          "metadata": {
            "tags": []
          },
          "execution_count": 246
        }
      ]
    },
    {
      "cell_type": "code",
      "metadata": {
        "colab": {
          "base_uri": "https://localhost:8080/",
          "height": 251
        },
        "id": "KucrwFkZZv_o",
        "outputId": "f9cd92e4-0f76-402f-e6c4-fe5096de603c"
      },
      "source": [
        "#df.loc[244]\r\n",
        "df[df['App']=='HipChat - Chat Built for Teams']"
      ],
      "execution_count": null,
      "outputs": [
        {
          "output_type": "execute_result",
          "data": {
            "text/html": [
              "<div>\n",
              "<style scoped>\n",
              "    .dataframe tbody tr th:only-of-type {\n",
              "        vertical-align: middle;\n",
              "    }\n",
              "\n",
              "    .dataframe tbody tr th {\n",
              "        vertical-align: top;\n",
              "    }\n",
              "\n",
              "    .dataframe thead th {\n",
              "        text-align: right;\n",
              "    }\n",
              "</style>\n",
              "<table border=\"1\" class=\"dataframe\">\n",
              "  <thead>\n",
              "    <tr style=\"text-align: right;\">\n",
              "      <th></th>\n",
              "      <th>App</th>\n",
              "      <th>Category</th>\n",
              "      <th>Rating</th>\n",
              "      <th>Reviews</th>\n",
              "      <th>Size</th>\n",
              "      <th>Installs</th>\n",
              "      <th>Type</th>\n",
              "      <th>Price</th>\n",
              "      <th>Genres</th>\n",
              "      <th>Current Ver</th>\n",
              "      <th>Android Ver</th>\n",
              "    </tr>\n",
              "  </thead>\n",
              "  <tbody>\n",
              "    <tr>\n",
              "      <th>244</th>\n",
              "      <td>HipChat - Chat Built for Teams</td>\n",
              "      <td>BUSINESS</td>\n",
              "      <td>3.8</td>\n",
              "      <td>5868</td>\n",
              "      <td>20M</td>\n",
              "      <td>500,000+</td>\n",
              "      <td>Free</td>\n",
              "      <td>0</td>\n",
              "      <td>Business</td>\n",
              "      <td>3.19.005</td>\n",
              "      <td>4.1 and up</td>\n",
              "    </tr>\n",
              "    <tr>\n",
              "      <th>273</th>\n",
              "      <td>HipChat - Chat Built for Teams</td>\n",
              "      <td>BUSINESS</td>\n",
              "      <td>3.8</td>\n",
              "      <td>5868</td>\n",
              "      <td>20M</td>\n",
              "      <td>500,000+</td>\n",
              "      <td>Free</td>\n",
              "      <td>0</td>\n",
              "      <td>Business</td>\n",
              "      <td>3.19.005</td>\n",
              "      <td>4.1 and up</td>\n",
              "    </tr>\n",
              "  </tbody>\n",
              "</table>\n",
              "</div>"
            ],
            "text/plain": [
              "                                App  Category  ...  Current Ver Android Ver\n",
              "244  HipChat - Chat Built for Teams  BUSINESS  ...     3.19.005  4.1 and up\n",
              "273  HipChat - Chat Built for Teams  BUSINESS  ...     3.19.005  4.1 and up\n",
              "\n",
              "[2 rows x 11 columns]"
            ]
          },
          "metadata": {
            "tags": []
          },
          "execution_count": 247
        }
      ]
    },
    {
      "cell_type": "code",
      "metadata": {
        "colab": {
          "base_uri": "https://localhost:8080/"
        },
        "id": "XSCbK4Zm5udq",
        "outputId": "8f77b076-244d-449e-dc59-c6434a0b59ec"
      },
      "source": [
        "df.shape"
      ],
      "execution_count": null,
      "outputs": [
        {
          "output_type": "execute_result",
          "data": {
            "text/plain": [
              "(10841, 11)"
            ]
          },
          "metadata": {
            "tags": []
          },
          "execution_count": 248
        }
      ]
    },
    {
      "cell_type": "code",
      "metadata": {
        "id": "isOAWO1w5n4n"
      },
      "source": [
        "#df.info"
      ],
      "execution_count": null,
      "outputs": []
    },
    {
      "cell_type": "code",
      "metadata": {
        "colab": {
          "base_uri": "https://localhost:8080/"
        },
        "id": "_8kRPrbgzkNM",
        "outputId": "7df096c2-5351-499e-91c6-015154e8269a"
      },
      "source": [
        "df=df.drop_duplicates()\r\n",
        "\r\n",
        "print(df.shape)"
      ],
      "execution_count": null,
      "outputs": [
        {
          "output_type": "stream",
          "text": [
            "(10356, 11)\n"
          ],
          "name": "stdout"
        }
      ]
    },
    {
      "cell_type": "code",
      "metadata": {
        "colab": {
          "base_uri": "https://localhost:8080/"
        },
        "id": "Li5IcvsOAQZG",
        "outputId": "8f5755ab-7aca-4eb7-e98c-6f06b6aaedf1"
      },
      "source": [
        "## getting everything clear\r\n",
        "df=df.dropna()\r\n",
        "print(df.isna().sum())\r\n",
        "print(df.shape)"
      ],
      "execution_count": null,
      "outputs": [
        {
          "output_type": "stream",
          "text": [
            "App            0\n",
            "Category       0\n",
            "Rating         0\n",
            "Reviews        0\n",
            "Size           0\n",
            "Installs       0\n",
            "Type           0\n",
            "Price          0\n",
            "Genres         0\n",
            "Current Ver    0\n",
            "Android Ver    0\n",
            "dtype: int64\n",
            "(10344, 11)\n"
          ],
          "name": "stdout"
        }
      ]
    },
    {
      "cell_type": "code",
      "metadata": {
        "id": "DcCighvhzkNV",
        "colab": {
          "base_uri": "https://localhost:8080/"
        },
        "outputId": "64abdad6-9740-46bb-df4e-3bdeb47dbb69"
      },
      "source": [
        "#Changing the feature : Size\n",
        "newSize = []\n",
        "\n",
        "for row in df.Size:\n",
        "    newrow = row[:-1]\n",
        "    try:\n",
        "        newSize.append(float(newrow))\n",
        "    except:\n",
        "        newSize.append(0) #When it says - Size Varies.\n",
        "    \n",
        "df.Size = newSize\n",
        "\n",
        "df.Size.head()"
      ],
      "execution_count": null,
      "outputs": [
        {
          "output_type": "execute_result",
          "data": {
            "text/plain": [
              "0    19.0\n",
              "1    14.0\n",
              "2     8.7\n",
              "3    25.0\n",
              "4     2.8\n",
              "Name: Size, dtype: float64"
            ]
          },
          "metadata": {
            "tags": []
          },
          "execution_count": 252
        }
      ]
    },
    {
      "cell_type": "code",
      "metadata": {
        "id": "L4uZxkNUzkNX",
        "colab": {
          "base_uri": "https://localhost:8080/"
        },
        "outputId": "e39ccb9c-f374-42af-d139-17342ad7fe6a"
      },
      "source": [
        "#Changing the feature, Android Ver\n",
        "newVer = []\n",
        "\n",
        "for row in df['Android Ver']:\n",
        "    try:\n",
        "        newrow = float(row[:2])\n",
        "    except:\n",
        "        newrow = 0  # When the value is - Varies with device\n",
        "    \n",
        "    newVer.append(newrow)\n",
        "    \n",
        "df['Android Ver'] =  newVer\n",
        "\n",
        "df['Android Ver'].value_counts()"
      ],
      "execution_count": null,
      "outputs": [
        {
          "output_type": "execute_result",
          "data": {
            "text/plain": [
              "4.0    6693\n",
              "2.0    1332\n",
              "0.0    1220\n",
              "5.0     571\n",
              "3.0     282\n",
              "1.0     136\n",
              "6.0      58\n",
              "7.0      46\n",
              "8.0       6\n",
              "Name: Android Ver, dtype: int64"
            ]
          },
          "metadata": {
            "tags": []
          },
          "execution_count": 253
        }
      ]
    },
    {
      "cell_type": "code",
      "metadata": {
        "id": "aw1M3_bW4cXa"
      },
      "source": [
        "#df['Type']"
      ],
      "execution_count": null,
      "outputs": []
    },
    {
      "cell_type": "code",
      "metadata": {
        "colab": {
          "base_uri": "https://localhost:8080/"
        },
        "id": "QCYCmSmS6gJw",
        "outputId": "b212f277-dce0-4534-8f4c-ede2551f3f62"
      },
      "source": [
        "df.dtypes"
      ],
      "execution_count": null,
      "outputs": [
        {
          "output_type": "execute_result",
          "data": {
            "text/plain": [
              "App             object\n",
              "Category        object\n",
              "Rating         float64\n",
              "Reviews         object\n",
              "Size           float64\n",
              "Installs        object\n",
              "Type            object\n",
              "Price           object\n",
              "Genres          object\n",
              "Current Ver     object\n",
              "Android Ver    float64\n",
              "dtype: object"
            ]
          },
          "metadata": {
            "tags": []
          },
          "execution_count": 255
        }
      ]
    },
    {
      "cell_type": "code",
      "metadata": {
        "colab": {
          "base_uri": "https://localhost:8080/"
        },
        "id": "norD418a6kny",
        "outputId": "cc7e1c72-404f-40c7-ff63-73261f9925e6"
      },
      "source": [
        "x=df[['App','Category','Rating','Type']]\r\n",
        "print(x)\r\n",
        "#x[x['Type']=='0']\r\n",
        "#x=x.drop([10472])"
      ],
      "execution_count": null,
      "outputs": [
        {
          "output_type": "stream",
          "text": [
            "                                                     App  ...  Type\n",
            "0         Photo Editor & Candy Camera & Grid & ScrapBook  ...  Free\n",
            "1                                    Coloring book moana  ...  Free\n",
            "2      U Launcher Lite – FREE Live Cool Themes, Hide ...  ...  Free\n",
            "3                                  Sketch - Draw & Paint  ...  Free\n",
            "4                  Pixel Draw - Number Art Coloring Book  ...  Free\n",
            "...                                                  ...  ...   ...\n",
            "10836                                   Sya9a Maroc - FR  ...  Free\n",
            "10837                   Fr. Mike Schmitz Audio Teachings  ...  Free\n",
            "10838                             Parkinson Exercices FR  ...  Free\n",
            "10839                      The SCP Foundation DB fr nn5n  ...  Free\n",
            "10840      iHoroscope - 2018 Daily Horoscope & Astrology  ...  Free\n",
            "\n",
            "[10344 rows x 4 columns]\n"
          ],
          "name": "stdout"
        }
      ]
    },
    {
      "cell_type": "code",
      "metadata": {
        "id": "5eN_5RK-_ZYo"
      },
      "source": [
        "#print(df.isna().sum())"
      ],
      "execution_count": null,
      "outputs": []
    },
    {
      "cell_type": "code",
      "metadata": {
        "colab": {
          "base_uri": "https://localhost:8080/"
        },
        "id": "_KunI0gp8IeI",
        "outputId": "e05c5eda-cb5f-40cb-efd6-98e9fab960b3"
      },
      "source": [
        "x.groupby('Type').size()"
      ],
      "execution_count": null,
      "outputs": [
        {
          "output_type": "execute_result",
          "data": {
            "text/plain": [
              "Type\n",
              "Free    9582\n",
              "Paid     762\n",
              "dtype: int64"
            ]
          },
          "metadata": {
            "tags": []
          },
          "execution_count": 258
        }
      ]
    },
    {
      "cell_type": "code",
      "metadata": {
        "colab": {
          "base_uri": "https://localhost:8080/"
        },
        "id": "cReYKiub9yPu",
        "outputId": "fa26a65a-bf4c-476f-a993-b5d64d76f799"
      },
      "source": [
        "list(x['Type'])\r\n",
        "print(\"hi\")\r\n"
      ],
      "execution_count": null,
      "outputs": [
        {
          "output_type": "stream",
          "text": [
            "hi\n",
            "                                                     App  ... Android Ver\n",
            "0         Photo Editor & Candy Camera & Grid & ScrapBook  ...         4.0\n",
            "1                                    Coloring book moana  ...         4.0\n",
            "2      U Launcher Lite – FREE Live Cool Themes, Hide ...  ...         4.0\n",
            "3                                  Sketch - Draw & Paint  ...         4.0\n",
            "4                  Pixel Draw - Number Art Coloring Book  ...         4.0\n",
            "...                                                  ...  ...         ...\n",
            "10836                                   Sya9a Maroc - FR  ...         4.0\n",
            "10837                   Fr. Mike Schmitz Audio Teachings  ...         4.0\n",
            "10838                             Parkinson Exercices FR  ...         2.0\n",
            "10839                      The SCP Foundation DB fr nn5n  ...         0.0\n",
            "10840      iHoroscope - 2018 Daily Horoscope & Astrology  ...         0.0\n",
            "\n",
            "[10344 rows x 11 columns]\n"
          ],
          "name": "stdout"
        }
      ]
    },
    {
      "cell_type": "code",
      "metadata": {
        "colab": {
          "base_uri": "https://localhost:8080/"
        },
        "id": "PQOZGE-u4ciH",
        "outputId": "f49d7f9a-f884-4efc-a52a-8075d5d0f8e5"
      },
      "source": [
        "## Label Encoding\r\n",
        "from sklearn.preprocessing import LabelEncoder\r\n",
        "l1 = LabelEncoder()\r\n",
        "l1.fit(list(x['Type']))\r\n",
        "x.Type= l1.transform(x.Type)\r\n",
        "print(x)\r\n"
      ],
      "execution_count": null,
      "outputs": [
        {
          "output_type": "stream",
          "text": [
            "                                                     App  ... Type\n",
            "0         Photo Editor & Candy Camera & Grid & ScrapBook  ...    0\n",
            "1                                    Coloring book moana  ...    0\n",
            "2      U Launcher Lite – FREE Live Cool Themes, Hide ...  ...    0\n",
            "3                                  Sketch - Draw & Paint  ...    0\n",
            "4                  Pixel Draw - Number Art Coloring Book  ...    0\n",
            "...                                                  ...  ...  ...\n",
            "10836                                   Sya9a Maroc - FR  ...    0\n",
            "10837                   Fr. Mike Schmitz Audio Teachings  ...    0\n",
            "10838                             Parkinson Exercices FR  ...    0\n",
            "10839                      The SCP Foundation DB fr nn5n  ...    0\n",
            "10840      iHoroscope - 2018 Daily Horoscope & Astrology  ...    0\n",
            "\n",
            "[10344 rows x 4 columns]\n"
          ],
          "name": "stdout"
        },
        {
          "output_type": "stream",
          "text": [
            "/usr/local/lib/python3.7/dist-packages/pandas/core/generic.py:5170: SettingWithCopyWarning: \n",
            "A value is trying to be set on a copy of a slice from a DataFrame.\n",
            "Try using .loc[row_indexer,col_indexer] = value instead\n",
            "\n",
            "See the caveats in the documentation: https://pandas.pydata.org/pandas-docs/stable/user_guide/indexing.html#returning-a-view-versus-a-copy\n",
            "  self[name] = value\n"
          ],
          "name": "stderr"
        }
      ]
    },
    {
      "cell_type": "code",
      "metadata": {
        "colab": {
          "base_uri": "https://localhost:8080/",
          "height": 433
        },
        "id": "CeGg0hCx-U7g",
        "outputId": "c558975a-c511-4c6c-f531-6f833a206a0d"
      },
      "source": [
        "x[x['Type']==1]"
      ],
      "execution_count": null,
      "outputs": [
        {
          "output_type": "execute_result",
          "data": {
            "text/html": [
              "<div>\n",
              "<style scoped>\n",
              "    .dataframe tbody tr th:only-of-type {\n",
              "        vertical-align: middle;\n",
              "    }\n",
              "\n",
              "    .dataframe tbody tr th {\n",
              "        vertical-align: top;\n",
              "    }\n",
              "\n",
              "    .dataframe thead th {\n",
              "        text-align: right;\n",
              "    }\n",
              "</style>\n",
              "<table border=\"1\" class=\"dataframe\">\n",
              "  <thead>\n",
              "    <tr style=\"text-align: right;\">\n",
              "      <th></th>\n",
              "      <th>App</th>\n",
              "      <th>Category</th>\n",
              "      <th>Rating</th>\n",
              "      <th>Type</th>\n",
              "    </tr>\n",
              "  </thead>\n",
              "  <tbody>\n",
              "    <tr>\n",
              "      <th>234</th>\n",
              "      <td>TurboScan: scan documents and receipts in PDF</td>\n",
              "      <td>BUSINESS</td>\n",
              "      <td>4.700000</td>\n",
              "      <td>1</td>\n",
              "    </tr>\n",
              "    <tr>\n",
              "      <th>235</th>\n",
              "      <td>Tiny Scanner Pro: PDF Doc Scan</td>\n",
              "      <td>BUSINESS</td>\n",
              "      <td>4.800000</td>\n",
              "      <td>1</td>\n",
              "    </tr>\n",
              "    <tr>\n",
              "      <th>427</th>\n",
              "      <td>Puffin Browser Pro</td>\n",
              "      <td>COMMUNICATION</td>\n",
              "      <td>4.000000</td>\n",
              "      <td>1</td>\n",
              "    </tr>\n",
              "    <tr>\n",
              "      <th>476</th>\n",
              "      <td>Moco+ - Chat, Meet People</td>\n",
              "      <td>DATING</td>\n",
              "      <td>4.200000</td>\n",
              "      <td>1</td>\n",
              "    </tr>\n",
              "    <tr>\n",
              "      <th>477</th>\n",
              "      <td>Calculator</td>\n",
              "      <td>DATING</td>\n",
              "      <td>2.600000</td>\n",
              "      <td>1</td>\n",
              "    </tr>\n",
              "    <tr>\n",
              "      <th>...</th>\n",
              "      <td>...</td>\n",
              "      <td>...</td>\n",
              "      <td>...</td>\n",
              "      <td>...</td>\n",
              "    </tr>\n",
              "    <tr>\n",
              "      <th>10735</th>\n",
              "      <td>FP VoiceBot</td>\n",
              "      <td>FAMILY</td>\n",
              "      <td>4.193338</td>\n",
              "      <td>1</td>\n",
              "    </tr>\n",
              "    <tr>\n",
              "      <th>10760</th>\n",
              "      <td>Fast Tract Diet</td>\n",
              "      <td>HEALTH_AND_FITNESS</td>\n",
              "      <td>4.400000</td>\n",
              "      <td>1</td>\n",
              "    </tr>\n",
              "    <tr>\n",
              "      <th>10782</th>\n",
              "      <td>Trine 2: Complete Story</td>\n",
              "      <td>GAME</td>\n",
              "      <td>3.800000</td>\n",
              "      <td>1</td>\n",
              "    </tr>\n",
              "    <tr>\n",
              "      <th>10785</th>\n",
              "      <td>sugar, sugar</td>\n",
              "      <td>FAMILY</td>\n",
              "      <td>4.200000</td>\n",
              "      <td>1</td>\n",
              "    </tr>\n",
              "    <tr>\n",
              "      <th>10798</th>\n",
              "      <td>Word Search Tab 1 FR</td>\n",
              "      <td>FAMILY</td>\n",
              "      <td>4.193338</td>\n",
              "      <td>1</td>\n",
              "    </tr>\n",
              "  </tbody>\n",
              "</table>\n",
              "<p>762 rows × 4 columns</p>\n",
              "</div>"
            ],
            "text/plain": [
              "                                                 App  ... Type\n",
              "234    TurboScan: scan documents and receipts in PDF  ...    1\n",
              "235                   Tiny Scanner Pro: PDF Doc Scan  ...    1\n",
              "427                               Puffin Browser Pro  ...    1\n",
              "476                        Moco+ - Chat, Meet People  ...    1\n",
              "477                                       Calculator  ...    1\n",
              "...                                              ...  ...  ...\n",
              "10735                                    FP VoiceBot  ...    1\n",
              "10760                                Fast Tract Diet  ...    1\n",
              "10782                        Trine 2: Complete Story  ...    1\n",
              "10785                                   sugar, sugar  ...    1\n",
              "10798                           Word Search Tab 1 FR  ...    1\n",
              "\n",
              "[762 rows x 4 columns]"
            ]
          },
          "metadata": {
            "tags": []
          },
          "execution_count": 210
        }
      ]
    },
    {
      "cell_type": "code",
      "metadata": {
        "id": "09dRG8iL-U9j"
      },
      "source": [
        ""
      ],
      "execution_count": null,
      "outputs": []
    },
    {
      "cell_type": "code",
      "metadata": {
        "id": "H6ZNfRrI-Pfx"
      },
      "source": [
        ""
      ],
      "execution_count": null,
      "outputs": []
    },
    {
      "cell_type": "code",
      "metadata": {
        "colab": {
          "base_uri": "https://localhost:8080/"
        },
        "id": "_ajv2A2t6BkY",
        "outputId": "922374dc-4107-4a0f-fd6f-7ac21ca525f7"
      },
      "source": [
        "#One Hot Encoding\r\n",
        "\r\n",
        "#1.DataFrame.get_dummies\r\n",
        "yz = x.iloc[:, 1:]\r\n",
        "#print(df)\r\n",
        "ddf=pd.get_dummies(data=yz)\r\n",
        "print(ddf)"
      ],
      "execution_count": null,
      "outputs": [
        {
          "output_type": "stream",
          "text": [
            "         Rating  Type  ...  Category_VIDEO_PLAYERS  Category_WEATHER\n",
            "0      4.100000     0  ...                       0                 0\n",
            "1      3.900000     0  ...                       0                 0\n",
            "2      4.700000     0  ...                       0                 0\n",
            "3      4.500000     0  ...                       0                 0\n",
            "4      4.300000     0  ...                       0                 0\n",
            "...         ...   ...  ...                     ...               ...\n",
            "10836  4.500000     0  ...                       0                 0\n",
            "10837  5.000000     0  ...                       0                 0\n",
            "10838  4.193338     0  ...                       0                 0\n",
            "10839  4.500000     0  ...                       0                 0\n",
            "10840  4.500000     0  ...                       0                 0\n",
            "\n",
            "[10344 rows x 35 columns]\n"
          ],
          "name": "stdout"
        }
      ]
    },
    {
      "cell_type": "code",
      "metadata": {
        "colab": {
          "base_uri": "https://localhost:8080/",
          "height": 435
        },
        "id": "L5BFA93_6BvO",
        "outputId": "9517a80d-96da-4d89-dbd1-a18f3a33b1e7"
      },
      "source": [
        "ddf[ddf['Category_ART_AND_DESIGN']==1]"
      ],
      "execution_count": null,
      "outputs": [
        {
          "output_type": "execute_result",
          "data": {
            "text/html": [
              "<div>\n",
              "<style scoped>\n",
              "    .dataframe tbody tr th:only-of-type {\n",
              "        vertical-align: middle;\n",
              "    }\n",
              "\n",
              "    .dataframe tbody tr th {\n",
              "        vertical-align: top;\n",
              "    }\n",
              "\n",
              "    .dataframe thead th {\n",
              "        text-align: right;\n",
              "    }\n",
              "</style>\n",
              "<table border=\"1\" class=\"dataframe\">\n",
              "  <thead>\n",
              "    <tr style=\"text-align: right;\">\n",
              "      <th></th>\n",
              "      <th>Rating</th>\n",
              "      <th>Type</th>\n",
              "      <th>Category_ART_AND_DESIGN</th>\n",
              "      <th>Category_AUTO_AND_VEHICLES</th>\n",
              "      <th>Category_BEAUTY</th>\n",
              "      <th>Category_BOOKS_AND_REFERENCE</th>\n",
              "      <th>Category_BUSINESS</th>\n",
              "      <th>Category_COMICS</th>\n",
              "      <th>Category_COMMUNICATION</th>\n",
              "      <th>Category_DATING</th>\n",
              "      <th>Category_EDUCATION</th>\n",
              "      <th>Category_ENTERTAINMENT</th>\n",
              "      <th>Category_EVENTS</th>\n",
              "      <th>Category_FAMILY</th>\n",
              "      <th>Category_FINANCE</th>\n",
              "      <th>Category_FOOD_AND_DRINK</th>\n",
              "      <th>Category_GAME</th>\n",
              "      <th>Category_HEALTH_AND_FITNESS</th>\n",
              "      <th>Category_HOUSE_AND_HOME</th>\n",
              "      <th>Category_LIBRARIES_AND_DEMO</th>\n",
              "      <th>Category_LIFESTYLE</th>\n",
              "      <th>Category_MAPS_AND_NAVIGATION</th>\n",
              "      <th>Category_MEDICAL</th>\n",
              "      <th>Category_NEWS_AND_MAGAZINES</th>\n",
              "      <th>Category_PARENTING</th>\n",
              "      <th>Category_PERSONALIZATION</th>\n",
              "      <th>Category_PHOTOGRAPHY</th>\n",
              "      <th>Category_PRODUCTIVITY</th>\n",
              "      <th>Category_SHOPPING</th>\n",
              "      <th>Category_SOCIAL</th>\n",
              "      <th>Category_SPORTS</th>\n",
              "      <th>Category_TOOLS</th>\n",
              "      <th>Category_TRAVEL_AND_LOCAL</th>\n",
              "      <th>Category_VIDEO_PLAYERS</th>\n",
              "      <th>Category_WEATHER</th>\n",
              "    </tr>\n",
              "  </thead>\n",
              "  <tbody>\n",
              "    <tr>\n",
              "      <th>0</th>\n",
              "      <td>4.100000</td>\n",
              "      <td>0</td>\n",
              "      <td>1</td>\n",
              "      <td>0</td>\n",
              "      <td>0</td>\n",
              "      <td>0</td>\n",
              "      <td>0</td>\n",
              "      <td>0</td>\n",
              "      <td>0</td>\n",
              "      <td>0</td>\n",
              "      <td>0</td>\n",
              "      <td>0</td>\n",
              "      <td>0</td>\n",
              "      <td>0</td>\n",
              "      <td>0</td>\n",
              "      <td>0</td>\n",
              "      <td>0</td>\n",
              "      <td>0</td>\n",
              "      <td>0</td>\n",
              "      <td>0</td>\n",
              "      <td>0</td>\n",
              "      <td>0</td>\n",
              "      <td>0</td>\n",
              "      <td>0</td>\n",
              "      <td>0</td>\n",
              "      <td>0</td>\n",
              "      <td>0</td>\n",
              "      <td>0</td>\n",
              "      <td>0</td>\n",
              "      <td>0</td>\n",
              "      <td>0</td>\n",
              "      <td>0</td>\n",
              "      <td>0</td>\n",
              "      <td>0</td>\n",
              "      <td>0</td>\n",
              "    </tr>\n",
              "    <tr>\n",
              "      <th>1</th>\n",
              "      <td>3.900000</td>\n",
              "      <td>0</td>\n",
              "      <td>1</td>\n",
              "      <td>0</td>\n",
              "      <td>0</td>\n",
              "      <td>0</td>\n",
              "      <td>0</td>\n",
              "      <td>0</td>\n",
              "      <td>0</td>\n",
              "      <td>0</td>\n",
              "      <td>0</td>\n",
              "      <td>0</td>\n",
              "      <td>0</td>\n",
              "      <td>0</td>\n",
              "      <td>0</td>\n",
              "      <td>0</td>\n",
              "      <td>0</td>\n",
              "      <td>0</td>\n",
              "      <td>0</td>\n",
              "      <td>0</td>\n",
              "      <td>0</td>\n",
              "      <td>0</td>\n",
              "      <td>0</td>\n",
              "      <td>0</td>\n",
              "      <td>0</td>\n",
              "      <td>0</td>\n",
              "      <td>0</td>\n",
              "      <td>0</td>\n",
              "      <td>0</td>\n",
              "      <td>0</td>\n",
              "      <td>0</td>\n",
              "      <td>0</td>\n",
              "      <td>0</td>\n",
              "      <td>0</td>\n",
              "      <td>0</td>\n",
              "    </tr>\n",
              "    <tr>\n",
              "      <th>2</th>\n",
              "      <td>4.700000</td>\n",
              "      <td>0</td>\n",
              "      <td>1</td>\n",
              "      <td>0</td>\n",
              "      <td>0</td>\n",
              "      <td>0</td>\n",
              "      <td>0</td>\n",
              "      <td>0</td>\n",
              "      <td>0</td>\n",
              "      <td>0</td>\n",
              "      <td>0</td>\n",
              "      <td>0</td>\n",
              "      <td>0</td>\n",
              "      <td>0</td>\n",
              "      <td>0</td>\n",
              "      <td>0</td>\n",
              "      <td>0</td>\n",
              "      <td>0</td>\n",
              "      <td>0</td>\n",
              "      <td>0</td>\n",
              "      <td>0</td>\n",
              "      <td>0</td>\n",
              "      <td>0</td>\n",
              "      <td>0</td>\n",
              "      <td>0</td>\n",
              "      <td>0</td>\n",
              "      <td>0</td>\n",
              "      <td>0</td>\n",
              "      <td>0</td>\n",
              "      <td>0</td>\n",
              "      <td>0</td>\n",
              "      <td>0</td>\n",
              "      <td>0</td>\n",
              "      <td>0</td>\n",
              "      <td>0</td>\n",
              "    </tr>\n",
              "    <tr>\n",
              "      <th>3</th>\n",
              "      <td>4.500000</td>\n",
              "      <td>0</td>\n",
              "      <td>1</td>\n",
              "      <td>0</td>\n",
              "      <td>0</td>\n",
              "      <td>0</td>\n",
              "      <td>0</td>\n",
              "      <td>0</td>\n",
              "      <td>0</td>\n",
              "      <td>0</td>\n",
              "      <td>0</td>\n",
              "      <td>0</td>\n",
              "      <td>0</td>\n",
              "      <td>0</td>\n",
              "      <td>0</td>\n",
              "      <td>0</td>\n",
              "      <td>0</td>\n",
              "      <td>0</td>\n",
              "      <td>0</td>\n",
              "      <td>0</td>\n",
              "      <td>0</td>\n",
              "      <td>0</td>\n",
              "      <td>0</td>\n",
              "      <td>0</td>\n",
              "      <td>0</td>\n",
              "      <td>0</td>\n",
              "      <td>0</td>\n",
              "      <td>0</td>\n",
              "      <td>0</td>\n",
              "      <td>0</td>\n",
              "      <td>0</td>\n",
              "      <td>0</td>\n",
              "      <td>0</td>\n",
              "      <td>0</td>\n",
              "      <td>0</td>\n",
              "    </tr>\n",
              "    <tr>\n",
              "      <th>4</th>\n",
              "      <td>4.300000</td>\n",
              "      <td>0</td>\n",
              "      <td>1</td>\n",
              "      <td>0</td>\n",
              "      <td>0</td>\n",
              "      <td>0</td>\n",
              "      <td>0</td>\n",
              "      <td>0</td>\n",
              "      <td>0</td>\n",
              "      <td>0</td>\n",
              "      <td>0</td>\n",
              "      <td>0</td>\n",
              "      <td>0</td>\n",
              "      <td>0</td>\n",
              "      <td>0</td>\n",
              "      <td>0</td>\n",
              "      <td>0</td>\n",
              "      <td>0</td>\n",
              "      <td>0</td>\n",
              "      <td>0</td>\n",
              "      <td>0</td>\n",
              "      <td>0</td>\n",
              "      <td>0</td>\n",
              "      <td>0</td>\n",
              "      <td>0</td>\n",
              "      <td>0</td>\n",
              "      <td>0</td>\n",
              "      <td>0</td>\n",
              "      <td>0</td>\n",
              "      <td>0</td>\n",
              "      <td>0</td>\n",
              "      <td>0</td>\n",
              "      <td>0</td>\n",
              "      <td>0</td>\n",
              "      <td>0</td>\n",
              "    </tr>\n",
              "    <tr>\n",
              "      <th>...</th>\n",
              "      <td>...</td>\n",
              "      <td>...</td>\n",
              "      <td>...</td>\n",
              "      <td>...</td>\n",
              "      <td>...</td>\n",
              "      <td>...</td>\n",
              "      <td>...</td>\n",
              "      <td>...</td>\n",
              "      <td>...</td>\n",
              "      <td>...</td>\n",
              "      <td>...</td>\n",
              "      <td>...</td>\n",
              "      <td>...</td>\n",
              "      <td>...</td>\n",
              "      <td>...</td>\n",
              "      <td>...</td>\n",
              "      <td>...</td>\n",
              "      <td>...</td>\n",
              "      <td>...</td>\n",
              "      <td>...</td>\n",
              "      <td>...</td>\n",
              "      <td>...</td>\n",
              "      <td>...</td>\n",
              "      <td>...</td>\n",
              "      <td>...</td>\n",
              "      <td>...</td>\n",
              "      <td>...</td>\n",
              "      <td>...</td>\n",
              "      <td>...</td>\n",
              "      <td>...</td>\n",
              "      <td>...</td>\n",
              "      <td>...</td>\n",
              "      <td>...</td>\n",
              "      <td>...</td>\n",
              "      <td>...</td>\n",
              "    </tr>\n",
              "    <tr>\n",
              "      <th>7174</th>\n",
              "      <td>4.193338</td>\n",
              "      <td>0</td>\n",
              "      <td>1</td>\n",
              "      <td>0</td>\n",
              "      <td>0</td>\n",
              "      <td>0</td>\n",
              "      <td>0</td>\n",
              "      <td>0</td>\n",
              "      <td>0</td>\n",
              "      <td>0</td>\n",
              "      <td>0</td>\n",
              "      <td>0</td>\n",
              "      <td>0</td>\n",
              "      <td>0</td>\n",
              "      <td>0</td>\n",
              "      <td>0</td>\n",
              "      <td>0</td>\n",
              "      <td>0</td>\n",
              "      <td>0</td>\n",
              "      <td>0</td>\n",
              "      <td>0</td>\n",
              "      <td>0</td>\n",
              "      <td>0</td>\n",
              "      <td>0</td>\n",
              "      <td>0</td>\n",
              "      <td>0</td>\n",
              "      <td>0</td>\n",
              "      <td>0</td>\n",
              "      <td>0</td>\n",
              "      <td>0</td>\n",
              "      <td>0</td>\n",
              "      <td>0</td>\n",
              "      <td>0</td>\n",
              "      <td>0</td>\n",
              "      <td>0</td>\n",
              "    </tr>\n",
              "    <tr>\n",
              "      <th>8679</th>\n",
              "      <td>4.200000</td>\n",
              "      <td>0</td>\n",
              "      <td>1</td>\n",
              "      <td>0</td>\n",
              "      <td>0</td>\n",
              "      <td>0</td>\n",
              "      <td>0</td>\n",
              "      <td>0</td>\n",
              "      <td>0</td>\n",
              "      <td>0</td>\n",
              "      <td>0</td>\n",
              "      <td>0</td>\n",
              "      <td>0</td>\n",
              "      <td>0</td>\n",
              "      <td>0</td>\n",
              "      <td>0</td>\n",
              "      <td>0</td>\n",
              "      <td>0</td>\n",
              "      <td>0</td>\n",
              "      <td>0</td>\n",
              "      <td>0</td>\n",
              "      <td>0</td>\n",
              "      <td>0</td>\n",
              "      <td>0</td>\n",
              "      <td>0</td>\n",
              "      <td>0</td>\n",
              "      <td>0</td>\n",
              "      <td>0</td>\n",
              "      <td>0</td>\n",
              "      <td>0</td>\n",
              "      <td>0</td>\n",
              "      <td>0</td>\n",
              "      <td>0</td>\n",
              "      <td>0</td>\n",
              "      <td>0</td>\n",
              "    </tr>\n",
              "    <tr>\n",
              "      <th>8712</th>\n",
              "      <td>4.300000</td>\n",
              "      <td>0</td>\n",
              "      <td>1</td>\n",
              "      <td>0</td>\n",
              "      <td>0</td>\n",
              "      <td>0</td>\n",
              "      <td>0</td>\n",
              "      <td>0</td>\n",
              "      <td>0</td>\n",
              "      <td>0</td>\n",
              "      <td>0</td>\n",
              "      <td>0</td>\n",
              "      <td>0</td>\n",
              "      <td>0</td>\n",
              "      <td>0</td>\n",
              "      <td>0</td>\n",
              "      <td>0</td>\n",
              "      <td>0</td>\n",
              "      <td>0</td>\n",
              "      <td>0</td>\n",
              "      <td>0</td>\n",
              "      <td>0</td>\n",
              "      <td>0</td>\n",
              "      <td>0</td>\n",
              "      <td>0</td>\n",
              "      <td>0</td>\n",
              "      <td>0</td>\n",
              "      <td>0</td>\n",
              "      <td>0</td>\n",
              "      <td>0</td>\n",
              "      <td>0</td>\n",
              "      <td>0</td>\n",
              "      <td>0</td>\n",
              "      <td>0</td>\n",
              "      <td>0</td>\n",
              "    </tr>\n",
              "    <tr>\n",
              "      <th>8871</th>\n",
              "      <td>4.193338</td>\n",
              "      <td>0</td>\n",
              "      <td>1</td>\n",
              "      <td>0</td>\n",
              "      <td>0</td>\n",
              "      <td>0</td>\n",
              "      <td>0</td>\n",
              "      <td>0</td>\n",
              "      <td>0</td>\n",
              "      <td>0</td>\n",
              "      <td>0</td>\n",
              "      <td>0</td>\n",
              "      <td>0</td>\n",
              "      <td>0</td>\n",
              "      <td>0</td>\n",
              "      <td>0</td>\n",
              "      <td>0</td>\n",
              "      <td>0</td>\n",
              "      <td>0</td>\n",
              "      <td>0</td>\n",
              "      <td>0</td>\n",
              "      <td>0</td>\n",
              "      <td>0</td>\n",
              "      <td>0</td>\n",
              "      <td>0</td>\n",
              "      <td>0</td>\n",
              "      <td>0</td>\n",
              "      <td>0</td>\n",
              "      <td>0</td>\n",
              "      <td>0</td>\n",
              "      <td>0</td>\n",
              "      <td>0</td>\n",
              "      <td>0</td>\n",
              "      <td>0</td>\n",
              "      <td>0</td>\n",
              "    </tr>\n",
              "    <tr>\n",
              "      <th>8888</th>\n",
              "      <td>5.000000</td>\n",
              "      <td>0</td>\n",
              "      <td>1</td>\n",
              "      <td>0</td>\n",
              "      <td>0</td>\n",
              "      <td>0</td>\n",
              "      <td>0</td>\n",
              "      <td>0</td>\n",
              "      <td>0</td>\n",
              "      <td>0</td>\n",
              "      <td>0</td>\n",
              "      <td>0</td>\n",
              "      <td>0</td>\n",
              "      <td>0</td>\n",
              "      <td>0</td>\n",
              "      <td>0</td>\n",
              "      <td>0</td>\n",
              "      <td>0</td>\n",
              "      <td>0</td>\n",
              "      <td>0</td>\n",
              "      <td>0</td>\n",
              "      <td>0</td>\n",
              "      <td>0</td>\n",
              "      <td>0</td>\n",
              "      <td>0</td>\n",
              "      <td>0</td>\n",
              "      <td>0</td>\n",
              "      <td>0</td>\n",
              "      <td>0</td>\n",
              "      <td>0</td>\n",
              "      <td>0</td>\n",
              "      <td>0</td>\n",
              "      <td>0</td>\n",
              "      <td>0</td>\n",
              "      <td>0</td>\n",
              "    </tr>\n",
              "  </tbody>\n",
              "</table>\n",
              "<p>64 rows × 35 columns</p>\n",
              "</div>"
            ],
            "text/plain": [
              "        Rating  Type  ...  Category_VIDEO_PLAYERS  Category_WEATHER\n",
              "0     4.100000     0  ...                       0                 0\n",
              "1     3.900000     0  ...                       0                 0\n",
              "2     4.700000     0  ...                       0                 0\n",
              "3     4.500000     0  ...                       0                 0\n",
              "4     4.300000     0  ...                       0                 0\n",
              "...        ...   ...  ...                     ...               ...\n",
              "7174  4.193338     0  ...                       0                 0\n",
              "8679  4.200000     0  ...                       0                 0\n",
              "8712  4.300000     0  ...                       0                 0\n",
              "8871  4.193338     0  ...                       0                 0\n",
              "8888  5.000000     0  ...                       0                 0\n",
              "\n",
              "[64 rows x 35 columns]"
            ]
          },
          "metadata": {
            "tags": []
          },
          "execution_count": 215
        }
      ]
    },
    {
      "cell_type": "code",
      "metadata": {
        "colab": {
          "base_uri": "https://localhost:8080/",
          "height": 415
        },
        "id": "mhniE2uUENKK",
        "outputId": "4549f504-8c8f-400c-9d3b-0db8c2846b83"
      },
      "source": [
        "#2Using OneHotEncoder from Sci-Kit Learn\r\n",
        "from sklearn.compose import ColumnTransformer\r\n",
        "from sklearn.preprocessing import OneHotEncoder\r\n",
        "\r\n",
        "dpf = x.iloc[:, 1:2]\r\n",
        "#print(dpf)\r\n",
        "ct = ColumnTransformer(transformers=[('encoder', OneHotEncoder(), [0])], remainder='passthrough')\r\n",
        "X = pd.DataFrame(ct.fit_transform(dpf))\r\n",
        "#print(X)\r\n",
        "X"
      ],
      "execution_count": null,
      "outputs": [
        {
          "output_type": "execute_result",
          "data": {
            "text/html": [
              "<div>\n",
              "<style scoped>\n",
              "    .dataframe tbody tr th:only-of-type {\n",
              "        vertical-align: middle;\n",
              "    }\n",
              "\n",
              "    .dataframe tbody tr th {\n",
              "        vertical-align: top;\n",
              "    }\n",
              "\n",
              "    .dataframe thead th {\n",
              "        text-align: right;\n",
              "    }\n",
              "</style>\n",
              "<table border=\"1\" class=\"dataframe\">\n",
              "  <thead>\n",
              "    <tr style=\"text-align: right;\">\n",
              "      <th></th>\n",
              "      <th>0</th>\n",
              "    </tr>\n",
              "  </thead>\n",
              "  <tbody>\n",
              "    <tr>\n",
              "      <th>0</th>\n",
              "      <td>(0, 0)\\t1.0</td>\n",
              "    </tr>\n",
              "    <tr>\n",
              "      <th>1</th>\n",
              "      <td>(0, 0)\\t1.0</td>\n",
              "    </tr>\n",
              "    <tr>\n",
              "      <th>2</th>\n",
              "      <td>(0, 0)\\t1.0</td>\n",
              "    </tr>\n",
              "    <tr>\n",
              "      <th>3</th>\n",
              "      <td>(0, 0)\\t1.0</td>\n",
              "    </tr>\n",
              "    <tr>\n",
              "      <th>4</th>\n",
              "      <td>(0, 0)\\t1.0</td>\n",
              "    </tr>\n",
              "    <tr>\n",
              "      <th>...</th>\n",
              "      <td>...</td>\n",
              "    </tr>\n",
              "    <tr>\n",
              "      <th>10339</th>\n",
              "      <td>(0, 11)\\t1.0</td>\n",
              "    </tr>\n",
              "    <tr>\n",
              "      <th>10340</th>\n",
              "      <td>(0, 11)\\t1.0</td>\n",
              "    </tr>\n",
              "    <tr>\n",
              "      <th>10341</th>\n",
              "      <td>(0, 20)\\t1.0</td>\n",
              "    </tr>\n",
              "    <tr>\n",
              "      <th>10342</th>\n",
              "      <td>(0, 3)\\t1.0</td>\n",
              "    </tr>\n",
              "    <tr>\n",
              "      <th>10343</th>\n",
              "      <td>(0, 18)\\t1.0</td>\n",
              "    </tr>\n",
              "  </tbody>\n",
              "</table>\n",
              "<p>10344 rows × 1 columns</p>\n",
              "</div>"
            ],
            "text/plain": [
              "                    0\n",
              "0         (0, 0)\\t1.0\n",
              "1         (0, 0)\\t1.0\n",
              "2         (0, 0)\\t1.0\n",
              "3         (0, 0)\\t1.0\n",
              "4         (0, 0)\\t1.0\n",
              "...               ...\n",
              "10339    (0, 11)\\t1.0\n",
              "10340    (0, 11)\\t1.0\n",
              "10341    (0, 20)\\t1.0\n",
              "10342     (0, 3)\\t1.0\n",
              "10343    (0, 18)\\t1.0\n",
              "\n",
              "[10344 rows x 1 columns]"
            ]
          },
          "metadata": {
            "tags": []
          },
          "execution_count": 221
        }
      ]
    },
    {
      "cell_type": "code",
      "metadata": {
        "colab": {
          "base_uri": "https://localhost:8080/"
        },
        "id": "VSUWKyIaENPh",
        "outputId": "6bbb5217-61d0-476e-df4b-5d0497e978ba"
      },
      "source": [
        "#print(df)\r\n",
        "x=df[['App','Category','Rating','Type']]\r\n",
        "from sklearn.preprocessing import LabelEncoder\r\n",
        "le = LabelEncoder()\r\n",
        "y = x.iloc[:, -1].values\r\n",
        "print(y)\r\n",
        "y = le.fit_transform(y)\r\n",
        "print(y)\r\n"
      ],
      "execution_count": null,
      "outputs": [
        {
          "output_type": "stream",
          "text": [
            "['Free' 'Free' 'Free' ... 'Free' 'Free' 'Free']\n",
            "[0 0 0 ... 0 0 0]\n"
          ],
          "name": "stdout"
        }
      ]
    },
    {
      "cell_type": "code",
      "metadata": {
        "colab": {
          "base_uri": "https://localhost:8080/"
        },
        "id": "keil1FcwENSo",
        "outputId": "182bcbff-1f0a-493d-c12e-8ad4bccc6787"
      },
      "source": [
        "dpf = x.iloc[:, :-1]\r\n",
        "Xyz = x.iloc[:, :-1].values\r\n",
        "print('Rating range',min(dpf.Rating),'-',max(dpf.Rating))\r\n"
      ],
      "execution_count": null,
      "outputs": [
        {
          "output_type": "stream",
          "text": [
            "Rating range 1.0 - 5.0\n"
          ],
          "name": "stdout"
        }
      ]
    },
    {
      "cell_type": "markdown",
      "metadata": {
        "id": "EYQ9jOGTzkNY"
      },
      "source": [
        "***"
      ]
    },
    {
      "cell_type": "code",
      "metadata": {
        "id": "yibcwdm9HLdC"
      },
      "source": [
        "\r\n"
      ],
      "execution_count": null,
      "outputs": []
    }
  ]
}